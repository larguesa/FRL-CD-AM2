{
  "nbformat": 4,
  "nbformat_minor": 0,
  "metadata": {
    "colab": {
      "provenance": [],
      "authorship_tag": "ABX9TyOMQaAblhT9EuKZPUO0S3iI",
      "include_colab_link": true
    },
    "kernelspec": {
      "name": "python3",
      "display_name": "Python 3"
    },
    "language_info": {
      "name": "python"
    }
  },
  "cells": [
    {
      "cell_type": "markdown",
      "metadata": {
        "id": "view-in-github",
        "colab_type": "text"
      },
      "source": [
        "<a href=\"https://colab.research.google.com/github/larguesa/FRL-CD-AM2/blob/main/FRL_CD_AM2_Aula_03_1_(M%C3%A9todos_generativos_vs_discriminativos).ipynb\" target=\"_parent\"><img src=\"https://colab.research.google.com/assets/colab-badge.svg\" alt=\"Open In Colab\"/></a>"
      ]
    },
    {
      "cell_type": "markdown",
      "source": [
        "# Aula 3.1 Métodos Generativos vs. Discriminativos\n",
        "\n",
        "Objetivos de Aprendizado:\n",
        "\n",
        "- Compreender a diferença fundamental entre modelos generativos e discriminativos\n",
        "- Implementar e comparar Naive Bayes (generativo) e Regressão Logística (discriminativo)\n",
        "- Analisar o desempenho com diferentes tamanhos de conjunto de dados"
      ],
      "metadata": {
        "id": "UEIT3Qwk0aWh"
      }
    },
    {
      "cell_type": "markdown",
      "source": [
        "## Roteiro"
      ],
      "metadata": {
        "id": "uFus1mG10jUJ"
      }
    },
    {
      "cell_type": "markdown",
      "source": [
        "1. Introdução Teórica (com código)"
      ],
      "metadata": {
        "id": "oh9xt_7n04yB"
      }
    },
    {
      "cell_type": "code",
      "source": [
        "# Título: Comparando Métodos Generativos e Discriminativos em Classificação de E-mails\n",
        "\n",
        "# Modelos Generativos: modelam P(X,y) = P(X|y)P(y)\n",
        "# - Aprendem a distribuição conjunta dos dados e rótulos\n",
        "# - Exemplos: Naive Bayes, Gaussian Mixture Models, HMMs\n",
        "\n",
        "# Modelos Discriminativos: modelam P(y|X) diretamente\n",
        "# - Aprendem a fronteira entre classes\n",
        "# - Exemplos: Regressão Logística, SVM, Redes Neurais"
      ],
      "metadata": {
        "id": "7_SVKdxro8M3"
      },
      "execution_count": null,
      "outputs": []
    },
    {
      "cell_type": "markdown",
      "source": [
        "2. Carregamento e Preparação dos Dados"
      ],
      "metadata": {
        "id": "EE2dJS_p1Sd0"
      }
    },
    {
      "cell_type": "code",
      "source": [
        "# Usar dataset Spambase do UCI Repository\n",
        "from sklearn.datasets import fetch_openml\n",
        "from sklearn.model_selection import train_test_split\n",
        "\n",
        "# Carregar dados de e-mail (spam/não-spam)\n",
        "# https://www.openml.org/d/44\n",
        "X, y = fetch_openml(name=\"SpamBase\", version=1, return_X_y=True, as_frame=True)\n",
        "\n",
        "# Visualizar as primeiras linhas das features (X)\n",
        "print(\"Primeiras 5 linhas das features (X):\")\n",
        "print(X.head())\n",
        "\n",
        "# Visualizar as primeiras linhas dos rótulos (y)\n",
        "print(\"\\nPrimeiras 5 linhas dos rótulos (y):\")\n",
        "print(y.head())\n",
        "\n",
        "# Informações gerais sobre o dataset\n",
        "print(\"\\nInformações sobre X:\")\n",
        "print(X.info())\n",
        "print(\"\\nDimensões de X:\", X.shape)\n",
        "print(\"Dimensões de y:\", y.shape)\n",
        "\n",
        "# Divisão em treino e teste\n",
        "X_train, X_test, y_train, y_test = train_test_split(X, y, test_size=0.3, random_state=42)"
      ],
      "metadata": {
        "id": "y1MAhU6Y1P-2",
        "colab": {
          "base_uri": "https://localhost:8080/"
        },
        "outputId": "7bf2ff57-1baa-444c-ec1a-562e928f4b7b"
      },
      "execution_count": null,
      "outputs": [
        {
          "output_type": "stream",
          "name": "stdout",
          "text": [
            "Primeiras 5 linhas das features (X):\n",
            "   word_freq_make  word_freq_address  word_freq_all  word_freq_3d  \\\n",
            "0            0.00               0.64           0.64           0.0   \n",
            "1            0.21               0.28           0.50           0.0   \n",
            "2            0.06               0.00           0.71           0.0   \n",
            "3            0.00               0.00           0.00           0.0   \n",
            "4            0.00               0.00           0.00           0.0   \n",
            "\n",
            "   word_freq_our  word_freq_over  word_freq_remove  word_freq_internet  \\\n",
            "0           0.32            0.00              0.00                0.00   \n",
            "1           0.14            0.28              0.21                0.07   \n",
            "2           1.23            0.19              0.19                0.12   \n",
            "3           0.63            0.00              0.31                0.63   \n",
            "4           0.63            0.00              0.31                0.63   \n",
            "\n",
            "   word_freq_order  word_freq_mail  ...  word_freq_conference  char_freq_%3B  \\\n",
            "0             0.00            0.00  ...                   0.0           0.00   \n",
            "1             0.00            0.94  ...                   0.0           0.00   \n",
            "2             0.64            0.25  ...                   0.0           0.01   \n",
            "3             0.31            0.63  ...                   0.0           0.00   \n",
            "4             0.31            0.63  ...                   0.0           0.00   \n",
            "\n",
            "   char_freq_%28  char_freq_%5B  char_freq_%21  char_freq_%24  char_freq_%23  \\\n",
            "0          0.000            0.0          0.778          0.000          0.000   \n",
            "1          0.132            0.0          0.372          0.180          0.048   \n",
            "2          0.143            0.0          0.276          0.184          0.010   \n",
            "3          0.137            0.0          0.137          0.000          0.000   \n",
            "4          0.135            0.0          0.135          0.000          0.000   \n",
            "\n",
            "   capital_run_length_average  capital_run_length_longest  \\\n",
            "0                       3.756                          61   \n",
            "1                       5.114                         101   \n",
            "2                       9.821                         485   \n",
            "3                       3.537                          40   \n",
            "4                       3.537                          40   \n",
            "\n",
            "   capital_run_length_total  \n",
            "0                       278  \n",
            "1                      1028  \n",
            "2                      2259  \n",
            "3                       191  \n",
            "4                       191  \n",
            "\n",
            "[5 rows x 57 columns]\n",
            "\n",
            "Primeiras 5 linhas dos rótulos (y):\n",
            "0    1\n",
            "1    1\n",
            "2    1\n",
            "3    1\n",
            "4    1\n",
            "Name: class, dtype: category\n",
            "Categories (2, object): ['0', '1']\n",
            "\n",
            "Informações sobre X:\n",
            "<class 'pandas.core.frame.DataFrame'>\n",
            "RangeIndex: 4601 entries, 0 to 4600\n",
            "Data columns (total 57 columns):\n",
            " #   Column                      Non-Null Count  Dtype  \n",
            "---  ------                      --------------  -----  \n",
            " 0   word_freq_make              4601 non-null   float64\n",
            " 1   word_freq_address           4601 non-null   float64\n",
            " 2   word_freq_all               4601 non-null   float64\n",
            " 3   word_freq_3d                4601 non-null   float64\n",
            " 4   word_freq_our               4601 non-null   float64\n",
            " 5   word_freq_over              4601 non-null   float64\n",
            " 6   word_freq_remove            4601 non-null   float64\n",
            " 7   word_freq_internet          4601 non-null   float64\n",
            " 8   word_freq_order             4601 non-null   float64\n",
            " 9   word_freq_mail              4601 non-null   float64\n",
            " 10  word_freq_receive           4601 non-null   float64\n",
            " 11  word_freq_will              4601 non-null   float64\n",
            " 12  word_freq_people            4601 non-null   float64\n",
            " 13  word_freq_report            4601 non-null   float64\n",
            " 14  word_freq_addresses         4601 non-null   float64\n",
            " 15  word_freq_free              4601 non-null   float64\n",
            " 16  word_freq_business          4601 non-null   float64\n",
            " 17  word_freq_email             4601 non-null   float64\n",
            " 18  word_freq_you               4601 non-null   float64\n",
            " 19  word_freq_credit            4601 non-null   float64\n",
            " 20  word_freq_your              4601 non-null   float64\n",
            " 21  word_freq_font              4601 non-null   float64\n",
            " 22  word_freq_000               4601 non-null   float64\n",
            " 23  word_freq_money             4601 non-null   float64\n",
            " 24  word_freq_hp                4601 non-null   float64\n",
            " 25  word_freq_hpl               4601 non-null   float64\n",
            " 26  word_freq_george            4601 non-null   float64\n",
            " 27  word_freq_650               4601 non-null   float64\n",
            " 28  word_freq_lab               4601 non-null   float64\n",
            " 29  word_freq_labs              4601 non-null   float64\n",
            " 30  word_freq_telnet            4601 non-null   float64\n",
            " 31  word_freq_857               4601 non-null   float64\n",
            " 32  word_freq_data              4601 non-null   float64\n",
            " 33  word_freq_415               4601 non-null   float64\n",
            " 34  word_freq_85                4601 non-null   float64\n",
            " 35  word_freq_technology        4601 non-null   float64\n",
            " 36  word_freq_1999              4601 non-null   float64\n",
            " 37  word_freq_parts             4601 non-null   float64\n",
            " 38  word_freq_pm                4601 non-null   float64\n",
            " 39  word_freq_direct            4601 non-null   float64\n",
            " 40  word_freq_cs                4601 non-null   float64\n",
            " 41  word_freq_meeting           4601 non-null   float64\n",
            " 42  word_freq_original          4601 non-null   float64\n",
            " 43  word_freq_project           4601 non-null   float64\n",
            " 44  word_freq_re                4601 non-null   float64\n",
            " 45  word_freq_edu               4601 non-null   float64\n",
            " 46  word_freq_table             4601 non-null   float64\n",
            " 47  word_freq_conference        4601 non-null   float64\n",
            " 48  char_freq_%3B               4601 non-null   float64\n",
            " 49  char_freq_%28               4601 non-null   float64\n",
            " 50  char_freq_%5B               4601 non-null   float64\n",
            " 51  char_freq_%21               4601 non-null   float64\n",
            " 52  char_freq_%24               4601 non-null   float64\n",
            " 53  char_freq_%23               4601 non-null   float64\n",
            " 54  capital_run_length_average  4601 non-null   float64\n",
            " 55  capital_run_length_longest  4601 non-null   int64  \n",
            " 56  capital_run_length_total    4601 non-null   int64  \n",
            "dtypes: float64(55), int64(2)\n",
            "memory usage: 2.0 MB\n",
            "None\n",
            "\n",
            "Dimensões de X: (4601, 57)\n",
            "Dimensões de y: (4601,)\n"
          ]
        }
      ]
    },
    {
      "cell_type": "markdown",
      "source": [
        "3. Implementação do Modelo Generativo"
      ],
      "metadata": {
        "id": "beqQS5X31JaY"
      }
    },
    {
      "cell_type": "code",
      "source": [
        "from sklearn.naive_bayes import GaussianNB\n",
        "from sklearn.metrics import accuracy_score, confusion_matrix, classification_report\n",
        "import time\n",
        "\n",
        "# Treinamento do Naive Bayes\n",
        "start_time = time.time()\n",
        "nb_model = GaussianNB()\n",
        "nb_model.fit(X_train, y_train)\n",
        "nb_training_time = time.time() - start_time\n",
        "\n",
        "# Avaliação\n",
        "nb_preds = nb_model.predict(X_test)\n",
        "nb_accuracy = accuracy_score(y_test, nb_preds)\n",
        "nb_conf_matrix = confusion_matrix(y_test, nb_preds)"
      ],
      "metadata": {
        "id": "HrGQxT1rpIhI"
      },
      "execution_count": null,
      "outputs": []
    },
    {
      "cell_type": "markdown",
      "source": [
        "4. Implementação do Modelo Discriminativo"
      ],
      "metadata": {
        "id": "KEF5XIT01bHj"
      }
    },
    {
      "cell_type": "code",
      "source": [
        "from sklearn.linear_model import LogisticRegression\n",
        "\n",
        "# Treinamento da Regressão Logística\n",
        "start_time = time.time()\n",
        "lr_model = LogisticRegression(max_iter=10000)\n",
        "lr_model.fit(X_train, y_train)\n",
        "lr_training_time = time.time() - start_time\n",
        "\n",
        "# Avaliação\n",
        "lr_preds = lr_model.predict(X_test)\n",
        "lr_accuracy = accuracy_score(y_test, lr_preds)\n",
        "lr_conf_matrix = confusion_matrix(y_test, lr_preds)"
      ],
      "metadata": {
        "id": "Zz252sZUpMdD"
      },
      "execution_count": null,
      "outputs": []
    },
    {
      "cell_type": "markdown",
      "source": [
        "5. Experimento: Desempenho vs. Tamanho do Conjunto de Dados"
      ],
      "metadata": {
        "id": "XMLoTZ_41eF8"
      }
    },
    {
      "cell_type": "code",
      "source": [
        "import numpy as np\n",
        "import matplotlib.pyplot as plt\n",
        "\n",
        "# Tamanhos de conjunto de treinamento\n",
        "train_sizes = [0.1, 0.2, 0.4, 0.6, 0.8, 1.0]\n",
        "nb_scores = []\n",
        "lr_scores = []\n",
        "\n",
        "for size in train_sizes:\n",
        "    # Seleciona subset dos dados de treinamento\n",
        "    subset_size = int(len(X_train) * size)\n",
        "    X_subset = X_train.iloc[:subset_size]\n",
        "    y_subset = y_train.iloc[:subset_size]\n",
        "\n",
        "    # Treina modelos\n",
        "    nb = GaussianNB().fit(X_subset, y_subset)\n",
        "    lr = LogisticRegression(max_iter=10000).fit(X_subset, y_subset)\n",
        "\n",
        "    # Avalia modelos\n",
        "    nb_scores.append(accuracy_score(y_test, nb.predict(X_test)))\n",
        "    lr_scores.append(accuracy_score(y_test, lr.predict(X_test)))\n",
        "\n",
        "# Visualiza resultados\n",
        "plt.figure(figsize=(10, 6))\n",
        "plt.plot([size*100 for size in train_sizes], nb_scores, 'o-', label='Naive Bayes (Generativo)')\n",
        "plt.plot([size*100 for size in train_sizes], lr_scores, 's-', label='Regressão Logística (Discriminativo)')\n",
        "plt.xlabel('Porcentagem dos Dados de Treinamento (%)')\n",
        "plt.ylabel('Acurácia no Conjunto de Teste')\n",
        "plt.title('Desempenho: Modelo Generativo vs. Discriminativo')\n",
        "plt.legend()\n",
        "plt.grid(True)"
      ],
      "metadata": {
        "colab": {
          "base_uri": "https://localhost:8080/",
          "height": 564
        },
        "id": "YGTSikzxpWK_",
        "outputId": "f0b76152-c9b6-4d1b-bf21-3cf5b739038a"
      },
      "execution_count": null,
      "outputs": [
        {
          "output_type": "display_data",
          "data": {
            "text/plain": [
              "<Figure size 1000x600 with 1 Axes>"
            ],
            "image/png": "[encoded data removed]"
          },
          "metadata": {}
        }
      ]
    },
    {
      "cell_type": "markdown",
      "source": [
        "6. Análise de Características"
      ],
      "metadata": {
        "id": "XTZt_RSe1hmu"
      }
    },
    {
      "cell_type": "code",
      "source": [
        "# Analisar quais características são mais relevantes para cada modelo\n",
        "import pandas as pd\n",
        "\n",
        "# Top 10 características para Regressão Logística\n",
        "feature_importance = pd.DataFrame({\n",
        "    'Feature': X.columns,\n",
        "    'Importance': np.abs(lr_model.coef_[0])\n",
        "}).sort_values('Importance', ascending=False)\n",
        "\n",
        "top_10_lr = feature_importance.head(10)\n",
        "\n",
        "# Para Naive Bayes, podemos olhar para a diferença nas médias\n",
        "nb_means_diff = pd.DataFrame({\n",
        "    'Feature': X.columns,\n",
        "    'Difference': np.abs(nb_model.theta_[0] - nb_model.theta_[1])\n",
        "}).sort_values('Difference', ascending=False)\n",
        "\n",
        "top_10_nb = nb_means_diff.head(10)"
      ],
      "metadata": {
        "id": "MmSva9q7pj5l"
      },
      "execution_count": null,
      "outputs": []
    },
    {
      "cell_type": "markdown",
      "source": [
        "## Exercício"
      ],
      "metadata": {
        "id": "FMeW2-5O0wZ_"
      }
    },
    {
      "cell_type": "markdown",
      "source": [
        "###Perguntas para Discussão:\n",
        "\n",
        "1. Qual modelo teve melhor desempenho geral? Por quê?\n",
        "2. Como o tamanho do conjunto de dados afetou cada modelo?\n",
        "3. Qual modelo treinou mais rápido? Por que isso importa em aplicações reais?\n",
        "4. Os modelos deram importância às mesmas características?\n",
        "5. Quais características você tentaria remover para tornar o modelo mais eficiente?\n",
        "6. Em quais situações você escolheria um modelo generativo em vez de um discriminativo?"
      ],
      "metadata": {
        "id": "tKH9fpQY0oue"
      }
    }
  ]
}
