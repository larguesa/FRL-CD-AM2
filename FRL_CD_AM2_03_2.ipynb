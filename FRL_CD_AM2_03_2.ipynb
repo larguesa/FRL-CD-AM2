{
  "nbformat": 4,
  "nbformat_minor": 0,
  "metadata": {
    "colab": {
      "provenance": [],
      "authorship_tag": "ABX9TyMdQ1e1XcyYtSOeaXEzcFG5",
      "include_colab_link": true
    },
    "kernelspec": {
      "name": "python3",
      "display_name": "Python 3"
    },
    "language_info": {
      "name": "python"
    }
  },
  "cells": [
    {
      "cell_type": "markdown",
      "metadata": {
        "id": "view-in-github",
        "colab_type": "text"
      },
      "source": [
        "<a href=\"https://colab.research.google.com/github/larguesa/FRL-CD-AM2/blob/main/FRL_CD_AM2_03_1(2).ipynb\" target=\"_parent\"><img src=\"https://colab.research.google.com/assets/colab-badge.svg\" alt=\"Open In Colab\"/></a>"
      ]
    },
    {
      "cell_type": "markdown",
      "source": [
        "# Aula 3.1(2): Classificação: Dataset Titanic\n",
        "Objetivo: Prever se um passageiro sobreviveu ao naufrágio do Titanic (classificação binária)\n",
        "\n",
        "Passos:\n",
        "1. Carregamento e Exploração dos Dados.\n",
        "2. Pré-processamento: tratar valores ausentes (missing values); codificar variáveis categóricas; criar novas features (feature engineering).\n",
        "3. Treinamento de Modelos: modelo base: Regressão Logística; modelos avançados: Random Forest e Gradient Boosting.\n",
        "4. Ajuste de Hiperparâmetros: usar GridSearchCV para otimizar o Random Forest.\n",
        "5. Ensemble Learning: combinar previsões com VotingClassifier.\n",
        "6. Avaliação e Visualização: matriz de confusão e métricas detalhadas."
      ],
      "metadata": {
        "id": "kO-PthiwnsZJ"
      }
    },
    {
      "cell_type": "markdown",
      "source": [
        "## Roteiro de execução"
      ],
      "metadata": {
        "id": "tSKQABk4xZoL"
      }
    },
    {
      "cell_type": "markdown",
      "source": [
        "1. Carregamento e Exploração dos Dados"
      ],
      "metadata": {
        "id": "X-U3LVeKVKhE"
      }
    },
    {
      "cell_type": "code",
      "source": [
        "import pandas as pd\n",
        "import seaborn as sns\n",
        "import matplotlib.pyplot as plt\n",
        "\n",
        "# Carregar o dataset Titanic do seaborn\n",
        "# https://github.com/mwaskom/seaborn-data/blob/master/titanic.csv\n",
        "df = sns.load_dataset('titanic')\n",
        "\n",
        "# Visualizar as primeiras linhas\n",
        "print(df.head())\n",
        "\n",
        "# Resumo básico\n",
        "print(df.info())\n",
        "\n",
        "# Visualizar distribuição da variável alvo\n",
        "sns.countplot(x='survived', data=df)\n",
        "plt.title('Distribuição de Sobreviventes')\n",
        "plt.show()"
      ],
      "metadata": {
        "colab": {
          "base_uri": "https://localhost:8080/",
          "height": 1097
        },
        "id": "wn_kbdH5nop6",
        "outputId": "16ce3947-aee5-4435-b80a-52fcb275b627"
      },
      "execution_count": null,
      "outputs": [
        {
          "output_type": "stream",
          "name": "stdout",
          "text": [
            "   survived  pclass     sex   age  sibsp  parch     fare embarked  class  \\\n",
            "0         0       3    male  22.0      1      0   7.2500        S  Third   \n",
            "1         1       1  female  38.0      1      0  71.2833        C  First   \n",
            "2         1       3  female  26.0      0      0   7.9250        S  Third   \n",
            "3         1       1  female  35.0      1      0  53.1000        S  First   \n",
            "4         0       3    male  35.0      0      0   8.0500        S  Third   \n",
            "\n",
            "     who  adult_male deck  embark_town alive  alone  \n",
            "0    man        True  NaN  Southampton    no  False  \n",
            "1  woman       False    C    Cherbourg   yes  False  \n",
            "2  woman       False  NaN  Southampton   yes   True  \n",
            "3  woman       False    C  Southampton   yes  False  \n",
            "4    man        True  NaN  Southampton    no   True  \n",
            "<class 'pandas.core.frame.DataFrame'>\n",
            "RangeIndex: 891 entries, 0 to 890\n",
            "Data columns (total 15 columns):\n",
            " #   Column       Non-Null Count  Dtype   \n",
            "---  ------       --------------  -----   \n",
            " 0   survived     891 non-null    int64   \n",
            " 1   pclass       891 non-null    int64   \n",
            " 2   sex          891 non-null    object  \n",
            " 3   age          714 non-null    float64 \n",
            " 4   sibsp        891 non-null    int64   \n",
            " 5   parch        891 non-null    int64   \n",
            " 6   fare         891 non-null    float64 \n",
            " 7   embarked     889 non-null    object  \n",
            " 8   class        891 non-null    category\n",
            " 9   who          891 non-null    object  \n",
            " 10  adult_male   891 non-null    bool    \n",
            " 11  deck         203 non-null    category\n",
            " 12  embark_town  889 non-null    object  \n",
            " 13  alive        891 non-null    object  \n",
            " 14  alone        891 non-null    bool    \n",
            "dtypes: bool(2), category(2), float64(2), int64(4), object(5)\n",
            "memory usage: 80.7+ KB\n",
            "None\n"
          ]
        },
        {
          "output_type": "display_data",
          "data": {
            "text/plain": [
              "<Figure size 640x480 with 1 Axes>"
            ],
            "image/png": "[encoded data removed]"
          },
          "metadata": {}
        }
      ]
    },
    {
      "cell_type": "markdown",
      "source": [
        "2. Pré-processamento\n",
        "- Tratar valores ausentes (missing values).\n",
        "- Codificar variáveis categóricas.\n",
        "- Criar novas features (feature engineering)."
      ],
      "metadata": {
        "id": "RsEPca12sUbH"
      }
    },
    {
      "cell_type": "code",
      "source": [
        "# Tratar valores ausentes\n",
        "df['age'] = df['age'].fillna(df['age'].median())\n",
        "df['embarked'] = df['embarked'].fillna(df['embarked'].mode()[0])\n",
        "\n",
        "# Codificar variáveis categóricas\n",
        "df = pd.get_dummies(df, columns=['sex', 'embarked'], drop_first=True)\n",
        "\n",
        "# Feature engineering: criar variável 'family_size'\n",
        "df['family_size'] = df['sibsp'] + df['parch'] + 1\n",
        "\n",
        "# Selecionar features e alvo\n",
        "X = df[['pclass', 'age', 'fare', 'family_size', 'sex_male', 'embarked_Q', 'embarked_S']]\n",
        "y = df['survived']"
      ],
      "metadata": {
        "id": "TOAwkfHanyNH"
      },
      "execution_count": null,
      "outputs": []
    },
    {
      "cell_type": "markdown",
      "source": [
        "3. Treinamento de Modelos\n",
        "- Modelo base: Regressão Logística.\n",
        "- Modelos avançados: Random Forest e Gradient Boosting."
      ],
      "metadata": {
        "id": "c4ncQ21ZsYfh"
      }
    },
    {
      "cell_type": "code",
      "source": [
        "from sklearn.model_selection import train_test_split\n",
        "from sklearn.linear_model import LogisticRegression\n",
        "from sklearn.ensemble import RandomForestClassifier, GradientBoostingClassifier\n",
        "from sklearn.metrics import accuracy_score, classification_report\n",
        "\n",
        "# Dividir os dados\n",
        "X_train, X_test, y_train, y_test = train_test_split(X, y, test_size=0.2, random_state=42)\n",
        "\n",
        "# Modelo base: Regressão Logística\n",
        "log_reg = LogisticRegression(max_iter=1000)\n",
        "log_reg.fit(X_train, y_train)\n",
        "y_pred_log = log_reg.predict(X_test)\n",
        "print(\"Acurácia Regressão Logística:\", accuracy_score(y_test, y_pred_log))\n",
        "\n",
        "# Random Forest\n",
        "rf = RandomForestClassifier(n_estimators=100, random_state=42)\n",
        "rf.fit(X_train, y_train)\n",
        "y_pred_rf = rf.predict(X_test)\n",
        "print(\"Acurácia Random Forest:\", accuracy_score(y_test, y_pred_rf))\n",
        "\n",
        "# Gradient Boosting\n",
        "gb = GradientBoostingClassifier(n_estimators=100, random_state=42)\n",
        "gb.fit(X_train, y_train)\n",
        "y_pred_gb = gb.predict(X_test)\n",
        "print(\"Acurácia Gradient Boosting:\", accuracy_score(y_test, y_pred_gb))"
      ],
      "metadata": {
        "colab": {
          "base_uri": "https://localhost:8080/"
        },
        "id": "YUCYPOlwrs9V",
        "outputId": "cb8b5f7b-2857-49e1-fcd7-b89013577d97"
      },
      "execution_count": null,
      "outputs": [
        {
          "output_type": "stream",
          "name": "stdout",
          "text": [
            "Acurácia Regressão Logística: 0.8044692737430168\n",
            "Acurácia Random Forest: 0.8268156424581006\n",
            "Acurácia Gradient Boosting: 0.8044692737430168\n"
          ]
        }
      ]
    },
    {
      "cell_type": "markdown",
      "source": [
        "4. Ajuste de Hiperparâmetros\n",
        "- Usar GridSearchCV para otimizar o Random Forest."
      ],
      "metadata": {
        "id": "McZTxi5Ssblj"
      }
    },
    {
      "cell_type": "code",
      "source": [
        "from sklearn.model_selection import GridSearchCV\n",
        "\n",
        "param_grid = {\n",
        "    'n_estimators': [50, 100, 200],\n",
        "    'max_depth': [None, 10, 20]\n",
        "}\n",
        "grid_search = GridSearchCV(RandomForestClassifier(random_state=42), param_grid, cv=5)\n",
        "grid_search.fit(X_train, y_train)\n",
        "print(\"Melhores parâmetros:\", grid_search.best_params_)\n",
        "print(\"Melhor acurácia:\", grid_search.best_score_)"
      ],
      "metadata": {
        "colab": {
          "base_uri": "https://localhost:8080/"
        },
        "id": "DhKeAcodrxXJ",
        "outputId": "f895766a-c29b-499f-f8ab-4bf5f46ffd18"
      },
      "execution_count": null,
      "outputs": [
        {
          "output_type": "stream",
          "name": "stdout",
          "text": [
            "Melhores parâmetros: {'max_depth': 10, 'n_estimators': 100}\n",
            "Melhor acurácia: 0.8103910174332711\n"
          ]
        }
      ]
    },
    {
      "cell_type": "markdown",
      "source": [
        "5. Ensemble Learning\n",
        "- Combinar previsões com VotingClassifier."
      ],
      "metadata": {
        "id": "anoIlWSqsgaH"
      }
    },
    {
      "cell_type": "code",
      "source": [
        "from sklearn.ensemble import VotingClassifier\n",
        "\n",
        "voting_clf = VotingClassifier(\n",
        "    estimators=[('rf', rf), ('gb', gb), ('lr', log_reg)],\n",
        "    voting='hard'\n",
        ")\n",
        "voting_clf.fit(X_train, y_train)\n",
        "y_pred_voting = voting_clf.predict(X_test)\n",
        "print(\"Acurácia Voting Classifier:\", accuracy_score(y_test, y_pred_voting))"
      ],
      "metadata": {
        "colab": {
          "base_uri": "https://localhost:8080/"
        },
        "id": "Bpx9tofFr3WX",
        "outputId": "8b992f9f-be73-4c6d-b740-16f5c130bdcf"
      },
      "execution_count": null,
      "outputs": [
        {
          "output_type": "stream",
          "name": "stdout",
          "text": [
            "Acurácia Voting Classifier: 0.8156424581005587\n"
          ]
        }
      ]
    },
    {
      "cell_type": "markdown",
      "source": [
        "6. Avaliação e Visualização\n",
        "- Matriz de confusão e métricas detalhadas."
      ],
      "metadata": {
        "id": "SGcpV3cAskO9"
      }
    },
    {
      "cell_type": "code",
      "source": [
        "from sklearn.metrics import confusion_matrix, ConfusionMatrixDisplay\n",
        "\n",
        "cm = confusion_matrix(y_test, y_pred_gb)\n",
        "disp = ConfusionMatrixDisplay(confusion_matrix=cm)\n",
        "disp.plot()\n",
        "plt.title('Matriz de Confusão - Gradient Boosting')\n",
        "plt.show()\n",
        "\n",
        "print(classification_report(y_test, y_pred_gb))"
      ],
      "metadata": {
        "colab": {
          "base_uri": "https://localhost:8080/",
          "height": 636
        },
        "id": "8_tekRaGsmLb",
        "outputId": "4e566263-20e0-4259-bbb9-81924a28c9e9"
      },
      "execution_count": null,
      "outputs": [
        {
          "output_type": "display_data",
          "data": {
            "text/plain": [
              "<Figure size 640x480 with 2 Axes>"
            ],
            "image/png": "[encoded data removed]"
          },
          "metadata": {}
        },
        {
          "output_type": "stream",
          "name": "stdout",
          "text": [
            "              precision    recall  f1-score   support\n",
            "\n",
            "           0       0.80      0.89      0.84       105\n",
            "           1       0.81      0.69      0.74        74\n",
            "\n",
            "    accuracy                           0.80       179\n",
            "   macro avg       0.81      0.79      0.79       179\n",
            "weighted avg       0.80      0.80      0.80       179\n",
            "\n"
          ]
        }
      ]
    },
    {
      "cell_type": "markdown",
      "source": [
        "## Exercício"
      ],
      "metadata": {
        "id": "9qvxpCP_so6J"
      }
    },
    {
      "cell_type": "markdown",
      "source": [
        "Tente melhorar o modelo Gradient Boosting adicionando uma nova feature (ex.: extrair título do nome dos passageiros). Comente suas ações e quais resultados obteve.\n",
        "\n",
        "### Exercício complementar opcional\n",
        "Aplique o mesmo processo a outro dataset de classificação, como o Iris (`sns.load_dataset('iris')`)."
      ],
      "metadata": {
        "id": "Yw1tqc5LxglV"
      }
    }
  ]
}
