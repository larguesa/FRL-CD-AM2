{
  "nbformat": 4,
  "nbformat_minor": 0,
  "metadata": {
    "colab": {
      "provenance": [],
      "authorship_tag": "ABX9TyP6HvDSWxMF5zbBsFKPTAR8",
      "include_colab_link": true
    },
    "kernelspec": {
      "name": "python3",
      "display_name": "Python 3"
    },
    "language_info": {
      "name": "python"
    }
  },
  "cells": [
    {
      "cell_type": "markdown",
      "metadata": {
        "id": "view-in-github",
        "colab_type": "text"
      },
      "source": [
        "<a href=\"https://colab.research.google.com/github/larguesa/FRL-CD-AM2/blob/main/FRL_CD_AM2_09_2_Reinforcement_Learning.ipynb\" target=\"_parent\"><img src=\"https://colab.research.google.com/assets/colab-badge.svg\" alt=\"Open In Colab\"/></a>"
      ]
    },
    {
      "cell_type": "markdown",
      "source": [
        "# Demonstração Guiada: Avaliação de Modelos\n",
        "\n",
        "Objetivo: Mostrar como calcular métricas de avaliação em um modelo preditivo."
      ],
      "metadata": {
        "id": "1HQnBnIaTSe3"
      }
    },
    {
      "cell_type": "markdown",
      "source": [
        "## Usando o dataset Iris, já abordado em sala de aula"
      ],
      "metadata": {
        "id": "jhLRuYzbhem2"
      }
    },
    {
      "cell_type": "code",
      "source": [
        "from sklearn.datasets import load_iris\n",
        "from sklearn.model_selection import train_test_split\n",
        "from sklearn.ensemble import RandomForestClassifier\n",
        "from sklearn.metrics import accuracy_score, precision_score, recall_score, f1_score, roc_auc_score, confusion_matrix\n",
        "import seaborn as sns\n",
        "import matplotlib.pyplot as plt\n",
        "\n",
        "# Carregar dados\n",
        "iris = load_iris()\n",
        "X, y = iris.data, iris.target\n",
        "X_train, X_test, y_train, y_test = train_test_split(X, y, test_size=0.3, random_state=42)\n",
        "\n",
        "# Treinar modelo\n",
        "model = RandomForestClassifier(random_state=42)\n",
        "model.fit(X_train, y_train)\n",
        "y_pred = model.predict(X_test)\n",
        "\n",
        "# Calcular métricas\n",
        "print(\"Acurácia:\", accuracy_score(y_test, y_pred))\n",
        "print(\"Precisão:\", precision_score(y_test, y_pred, average='weighted'))\n",
        "print(\"Recall:\", recall_score(y_test, y_pred, average='weighted'))\n",
        "print(\"F1-Score:\", f1_score(y_test, y_pred, average='weighted'))\n",
        "\n",
        "# Matriz de confusão\n",
        "cm = confusion_matrix(y_test, y_pred)\n",
        "sns.heatmap(cm, annot=True, fmt='d')\n",
        "plt.show()"
      ],
      "metadata": {
        "colab": {
          "base_uri": "https://localhost:8080/",
          "height": 499
        },
        "id": "AZKnsazFdwCb",
        "outputId": "39fe0259-cf13-48e4-81c4-0b6a3d1374da"
      },
      "execution_count": null,
      "outputs": [
        {
          "output_type": "stream",
          "name": "stdout",
          "text": [
            "Acurácia: 1.0\n",
            "Precisão: 1.0\n",
            "Recall: 1.0\n",
            "F1-Score: 1.0\n"
          ]
        },
        {
          "output_type": "display_data",
          "data": {
            "text/plain": [
              "<Figure size 640x480 with 2 Axes>"
            ],
            "image/png": "[encoded data removed]"
          },
          "metadata": {}
        }
      ]
    },
    {
      "cell_type": "markdown",
      "source": [
        "### Resultados\n",
        "\n",
        "#### Interpretação:\n",
        "- Todas as métricas são iguais a 1.0, o que indica que o modelo classificou 100% das instâncias corretamente no conjunto de teste.\n",
        "- O dataset Iris tem 3 classes (setosa, versicolor, virginica), e o modelo RandomForestClassifier, conforme implementado, não cometeu nenhum erro de classificação.\n",
        "\n",
        "#### É esperado?\n",
        "- Sim, esse resultado é plausível para o dataset Iris, que é um dataset relativamente simples e bem separável, especialmente para um modelo robusto como o RandomForestClassifier.\n",
        "- O Iris contém 150 amostras (50 por classe), e o código usa uma divisão de 70% treino (105 amostras) e 30% teste (45 amostras). Com random_state=42, a divisão é fixa e geralmente resulta em um conjunto de teste balanceado (cerca de 15 amostras por classe).\n",
        "- RandomForest é um modelo poderoso que combina várias árvores de decisão, o que o torna muito eficaz para datasets pequenos e lineares como o Iris. Além disso, o random_state=42 garante uma inicialização consistente, e essa semente específica é conhecida por gerar uma divisão de dados onde o modelo consegue generalizar bem.\n",
        "- No entanto, um desempenho perfeito (1.0 em todas as métricas) pode levantar suspeitas de overfitting ou de um conjunto de teste excessivamente fácil. Vamos analisar a matriz de confusão para confirmar.\n",
        "\n",
        "#### Explicação:\n",
        "- O dataset Iris é relativamente simples, com classes bem definidas, especialmente a classe setosa, que é linearmente separável. As classes versicolor e virginica têm alguma sobreposição, mas o RandomForestClassifier, sendo um modelo ensemble, é capaz de capturar padrões complexos e generalizar bem.\n",
        "- A divisão de dados com random_state=42 resulta em um conjunto de teste que é representativo e balanceado, facilitando a tarefa do modelo.\n",
        "- O desempenho perfeito (1.0 em todas as métricas) é plausível, mas pode indicar que o conjunto de teste não apresenta desafios significativos. Em um cenário real, seria útil testar o modelo com dados mais variados ou ruidosos para verificar sua robustez."
      ],
      "metadata": {
        "id": "56CCdVBYiTGW"
      }
    }
  ]
}